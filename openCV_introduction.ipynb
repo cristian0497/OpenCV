{
 "cells": [
  {
   "cell_type": "code",
   "execution_count": 1,
   "id": "05245189",
   "metadata": {},
   "outputs": [
    {
     "name": "stdout",
     "output_type": "stream",
     "text": [
      "Requirement already satisfied: opencv-contrib-python in /home/cristian/anaconda3/lib/python3.9/site-packages (4.5.5.64)\n",
      "Requirement already satisfied: numpy>=1.17.3 in /home/cristian/anaconda3/lib/python3.9/site-packages (from opencv-contrib-python) (1.20.3)\n",
      "Requirement already satisfied: scikit-image in /home/cristian/anaconda3/lib/python3.9/site-packages (0.18.3)\n",
      "Requirement already satisfied: numpy>=1.16.5 in /home/cristian/anaconda3/lib/python3.9/site-packages (from scikit-image) (1.20.3)\n",
      "Requirement already satisfied: scipy>=1.0.1 in /home/cristian/anaconda3/lib/python3.9/site-packages (from scikit-image) (1.7.1)\n",
      "Requirement already satisfied: matplotlib!=3.0.0,>=2.0.0 in /home/cristian/anaconda3/lib/python3.9/site-packages (from scikit-image) (3.4.3)\n",
      "Requirement already satisfied: networkx>=2.0 in /home/cristian/anaconda3/lib/python3.9/site-packages (from scikit-image) (2.6.3)\n",
      "Requirement already satisfied: pillow!=7.1.0,!=7.1.1,>=4.3.0 in /home/cristian/anaconda3/lib/python3.9/site-packages (from scikit-image) (8.4.0)\n",
      "Requirement already satisfied: imageio>=2.3.0 in /home/cristian/anaconda3/lib/python3.9/site-packages (from scikit-image) (2.9.0)\n",
      "Requirement already satisfied: tifffile>=2019.7.26 in /home/cristian/anaconda3/lib/python3.9/site-packages (from scikit-image) (2021.7.2)\n",
      "Requirement already satisfied: PyWavelets>=1.1.1 in /home/cristian/anaconda3/lib/python3.9/site-packages (from scikit-image) (1.1.1)\n",
      "Requirement already satisfied: python-dateutil>=2.7 in /home/cristian/anaconda3/lib/python3.9/site-packages (from matplotlib!=3.0.0,>=2.0.0->scikit-image) (2.8.2)\n",
      "Requirement already satisfied: pyparsing>=2.2.1 in /home/cristian/anaconda3/lib/python3.9/site-packages (from matplotlib!=3.0.0,>=2.0.0->scikit-image) (3.0.4)\n",
      "Requirement already satisfied: kiwisolver>=1.0.1 in /home/cristian/anaconda3/lib/python3.9/site-packages (from matplotlib!=3.0.0,>=2.0.0->scikit-image) (1.3.1)\n",
      "Requirement already satisfied: cycler>=0.10 in /home/cristian/anaconda3/lib/python3.9/site-packages (from matplotlib!=3.0.0,>=2.0.0->scikit-image) (0.10.0)\n",
      "Requirement already satisfied: six in /home/cristian/anaconda3/lib/python3.9/site-packages (from cycler>=0.10->matplotlib!=3.0.0,>=2.0.0->scikit-image) (1.16.0)\n"
     ]
    }
   ],
   "source": [
    "!pip install opencv-contrib-python\n",
    "!pip install scikit-image"
   ]
  },
  {
   "cell_type": "code",
   "execution_count": 4,
   "id": "445cef9d",
   "metadata": {},
   "outputs": [
    {
     "data": {
      "image/png": "[encoded data removed]",
      "text/plain": [
       "<Figure size 432x288 with 1 Axes>"
      ]
     },
     "metadata": {
      "needs_background": "light"
     },
     "output_type": "display_data"
    }
   ],
   "source": [
    "import numpy as np\n",
    "import cv2 as cv\n",
    "from matplotlib import pyplot as plt\n",
    "\n",
    "# Creamos una imagen negra (valores cero)\n",
    "# Matriz de 255x255, 3 canales, 0 cada uno.\n",
    "img = np.zeros((512,512, 3), np.uint8)\n",
    "\n",
    "# Dibujamos una línea diagonal azul\n",
    "# (img, inicio_trazo, fin_trazo, color_rgb, puntos_grosor)\n",
    "cv.line(img, (0,0), (511,511), (255,0,0), 5)\n",
    "\n",
    "# Rectangulo verde\n",
    "cv.rectangle(img, (384, 0), (510,128), (0,255,0), 3 )\n",
    "\n",
    "# Circle\n",
    "cv.circle(img, (447, 63), 63, (0,0,255), -1)\n",
    "\n",
    "# Printing\n",
    "plt.imshow(img)\n",
    "plt.show()"
   ]
  },
  {
   "cell_type": "code",
   "execution_count": null,
   "id": "df9aba32",
   "metadata": {},
   "outputs": [],
   "source": []
  }
 ],
 "metadata": {
  "kernelspec": {
   "display_name": "Python 3 (ipykernel)",
   "language": "python",
   "name": "python3"
  },
  "language_info": {
   "codemirror_mode": {
    "name": "ipython",
    "version": 3
   },
   "file_extension": ".py",
   "mimetype": "text/x-python",
   "name": "python",
   "nbconvert_exporter": "python",
   "pygments_lexer": "ipython3",
   "version": "3.9.7"
  }
 },
 "nbformat": 4,
 "nbformat_minor": 5
}
